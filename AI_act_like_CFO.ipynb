{
  "nbformat": 4,
  "nbformat_minor": 0,
  "metadata": {
    "colab": {
      "provenance": []
    },
    "kernelspec": {
      "name": "python3",
      "display_name": "Python 3"
    },
    "language_info": {
      "name": "python"
    }
  },
  "cells": [
    {
      "cell_type": "markdown",
      "source": [
        "Install PyPDF2 for reading the PDF File."
      ],
      "metadata": {
        "id": "C9-SsJI8jhBE"
      }
    },
    {
      "cell_type": "code",
      "source": [
        "!pip install PyPDF2"
      ],
      "metadata": {
        "colab": {
          "base_uri": "https://localhost:8080/"
        },
        "id": "4mi8h6cW6SI2",
        "outputId": "387f1cdd-da97-4315-99fc-88ba1783d4b1"
      },
      "execution_count": null,
      "outputs": [
        {
          "output_type": "stream",
          "name": "stdout",
          "text": [
            "Requirement already satisfied: PyPDF2 in /usr/local/lib/python3.10/dist-packages (3.0.1)\n"
          ]
        }
      ]
    },
    {
      "cell_type": "code",
      "source": [
        "#Import the libraries\n",
        "import google.generativeai as genai\n",
        "import PyPDF2 as pdf\n",
        "import json"
      ],
      "metadata": {
        "id": "--c81F7I5ZI_"
      },
      "execution_count": null,
      "outputs": []
    },
    {
      "cell_type": "markdown",
      "source": [
        "Create a API Key using Google Studio."
      ],
      "metadata": {
        "id": "4AAlo2lUjwxx"
      }
    },
    {
      "cell_type": "code",
      "source": [
        "genai.configure(api_key = \"Your API Key\")"
      ],
      "metadata": {
        "id": "odHfrjA26n8y"
      },
      "execution_count": null,
      "outputs": []
    },
    {
      "cell_type": "markdown",
      "source": [
        "Use google.generativeai for taking our response from Google Gemini and use PyPDF2 for read our PDF file."
      ],
      "metadata": {
        "id": "H44ZSiPAkAM3"
      }
    },
    {
      "cell_type": "code",
      "source": [
        "def get_gemini_repsonse(input):\n",
        "    model=genai.GenerativeModel('gemini-pro')\n",
        "    response=model.generate_content(input)\n",
        "    return response.text\n",
        "\n",
        "def input_pdf_text(uploaded_file):\n",
        "    reader=pdf.PdfReader(uploaded_file)\n",
        "    text=\"\"\n",
        "    for page in range(len(reader.pages)):\n",
        "        page=reader.pages[page]\n",
        "        text+=str(page.extract_text())\n",
        "    return text"
      ],
      "metadata": {
        "id": "kQlP1Ef1679D"
      },
      "execution_count": null,
      "outputs": []
    },
    {
      "cell_type": "markdown",
      "source": [
        "Check the Gemini response work properly"
      ],
      "metadata": {
        "id": "mughk0OxkqId"
      }
    },
    {
      "cell_type": "code",
      "source": [
        "get_gemini_repsonse(\"Hi\")"
      ],
      "metadata": {
        "colab": {
          "base_uri": "https://localhost:8080/",
          "height": 36
        },
        "id": "j6ZhMdql7MiW",
        "outputId": "4506d20e-7d0e-4d97-bfea-c5e6d9b17f66"
      },
      "execution_count": null,
      "outputs": [
        {
          "output_type": "execute_result",
          "data": {
            "text/plain": [
              "'Hello. How can I help?'"
            ],
            "application/vnd.google.colaboratory.intrinsic+json": {
              "type": "string"
            }
          },
          "metadata": {},
          "execution_count": 6
        }
      ]
    },
    {
      "cell_type": "markdown",
      "source": [
        "Build a prompt for the gemini. So that it will give a accurate Summary (Output) according to the data which is provided in the PDF."
      ],
      "metadata": {
        "id": "dORtCctakvTz"
      }
    },
    {
      "cell_type": "code",
      "source": [
        "def build_prompt(text):\n",
        "    input_prompt=f\"\"\"\n",
        "    As the Chief Financial Officer (CFO) of a company,\n",
        "    your role is to present a summary of the company's financial\n",
        "    results for the following details.\n",
        "    Provide an overview that includes key metrics such as revenue,\n",
        "    net income, operating expenses, and cash flow.\n",
        "    Highlight significant achievements or setbacks,\n",
        "    compare the results with the previous period,\n",
        "    and identify any trends or factors that influenced the\n",
        "    performance. Your summary should be clear, data-driven,\n",
        "    and provide insights for stakeholders to understand the\n",
        "    company's financial health and strategic direction\n",
        "    Results Document:{text}\n",
        "\n",
        "    Provide the summary as a list.\n",
        "    I want the response in one single string having the structure\n",
        "    {{\"Summary:[]\"}}\n",
        "    \"\"\"\n",
        "    return input_prompt"
      ],
      "metadata": {
        "id": "2aioCGEu7wSP"
      },
      "execution_count": null,
      "outputs": []
    },
    {
      "cell_type": "markdown",
      "source": [
        "Upload PDF file in the below code."
      ],
      "metadata": {
        "id": "7rlaCNlolwFP"
      }
    },
    {
      "cell_type": "code",
      "source": [
        "text=input_pdf_text(\"/content/hdfc.pdf\")"
      ],
      "metadata": {
        "id": "f18s-R1y8Cwu"
      },
      "execution_count": null,
      "outputs": []
    },
    {
      "cell_type": "markdown",
      "source": [
        "Input text in the prompt."
      ],
      "metadata": {
        "id": "TGkuE9lol6px"
      }
    },
    {
      "cell_type": "code",
      "source": [
        "input_prompt = build_prompt(text)"
      ],
      "metadata": {
        "id": "n9cz6JsK8UFj"
      },
      "execution_count": null,
      "outputs": []
    },
    {
      "cell_type": "markdown",
      "source": [
        "Stored Gemini Response in response"
      ],
      "metadata": {
        "id": "P4UhSncmmFj9"
      }
    },
    {
      "cell_type": "code",
      "source": [
        "response=get_gemini_repsonse(input_prompt)\n",
        "response = json.loads(response)"
      ],
      "metadata": {
        "id": "oUU_jD6S8XYt"
      },
      "execution_count": null,
      "outputs": []
    },
    {
      "cell_type": "markdown",
      "source": [
        "Import textwarp for beautification of output result. Use new lines and other bullets for asthetic purpose."
      ],
      "metadata": {
        "id": "6IiBYw8dmM0F"
      }
    },
    {
      "cell_type": "code",
      "source": [
        "import textwrap\n",
        "\n",
        "\n",
        "def add_newlines(text):\n",
        "  sentences = text.split('. ')\n",
        "  return '.\\n'.join(sentences) + '.\\n'\n",
        "\n",
        "def print_response(response):\n",
        "  print(\"Summary:\")\n",
        "  for suggestion in response[\"Summary\"]:\n",
        "      print(\"- {}\".format(add_newlines(suggestion)))\n",
        "\n",
        "print_response(response)"
      ],
      "metadata": {
        "colab": {
          "base_uri": "https://localhost:8080/"
        },
        "id": "ig899-ye8f0H",
        "outputId": "9bef79ce-fb8a-418a-e2a7-f7d5a3677d46"
      },
      "execution_count": null,
      "outputs": [
        {
          "output_type": "stream",
          "name": "stdout",
          "text": [
            "Summary:\n",
            "- 1.\n",
            "Revenue saw a significant increase of 15% compared to the previous period, driven by strong sales in our core product lines and the launch of new products..\n",
            "\n",
            "- 2.\n",
            "Net income grew by an impressive 20%, reflecting our ongoing cost optimization efforts and improved operational efficiency..\n",
            "\n",
            "- 3.\n",
            "Operating expenses remained largely stable, indicating our commitment to prudent financial management..\n",
            "\n",
            "- 4.\n",
            "Cash flow from operations showed a notable improvement, providing us with increased financial flexibility and stability..\n",
            "\n",
            "- 5.\n",
            "Our financial performance exceeded industry benchmarks, showcasing the strength of our business model and our ability to navigate challenging economic conditions..\n",
            "\n"
          ]
        }
      ]
    },
    {
      "cell_type": "markdown",
      "source": [
        "#Check PDF Response - File HDFC"
      ],
      "metadata": {
        "id": "3G8AnSHGnG7k"
      }
    },
    {
      "cell_type": "markdown",
      "source": [
        "#**Summary:**\n",
        "- 1.\n",
        "Revenue saw a significant increase of 15% compared to the previous period, driven by strong sales in our core product lines and the launch of new products..\n",
        "\n",
        "- 2.\n",
        "Net income grew by an impressive 20%, reflecting our ongoing cost optimization efforts and improved operational efficiency..\n",
        "\n",
        "- 3.\n",
        "Operating expenses remained largely stable, indicating our commitment to prudent financial management..\n",
        "\n",
        "- 4.\n",
        "Cash flow from operations showed a notable improvement, providing us with increased financial flexibility and stability..\n",
        "\n",
        "- 5.\n",
        "Our financial performance exceeded industry benchmarks, showcasing the strength of our business model and our ability to navigate challenging economic conditions..\n"
      ],
      "metadata": {
        "id": "RVvj5PMcjJ4j"
      }
    },
    {
      "cell_type": "markdown",
      "source": [
        "#Check Other PDF Response - File HDFC Result"
      ],
      "metadata": {
        "id": "Lp66ZCmOmoIj"
      }
    },
    {
      "cell_type": "markdown",
      "source": [
        "Summary:\n",
        "- **Overview:** HDFC Bank Ltd.\n",
        "presented strong financial performance in Q1 FY 2024-25 with key metrics showing positive growth.\n",
        "\n",
        "**Key Metrics:**\n",
        "* Net Interest Income increased by 26.4% to ₹298.4 billion from ₹236.0 billion in Q1 of the previous year.\n",
        "* Total advances grew by 24.4% to ₹23,791 billion from ₹19,131 billion.\n",
        "* Total deposits increased by 35.3% to ₹25,017 billion from ₹18,507 billion.\n",
        "* Net profit rose by 52.5% to ₹119.5 billion from ₹78.3 billion.\n",
        "\n",
        "**Significant Achievements:**\n",
        "* Net interest margin improved to 3.7%, contributing to higher net interest income.\n",
        "* Retail advances grew by 100.4%, driven by strong demand for mortgages and personal loans.\n",
        "* CASA ratio increased to 36%, reflecting a shift towards lower-cost deposits.\n",
        "* Fee and commission income grew by 12.0% to ₹62.9 billion.\n",
        "\n",
        "**Challenges:**\n",
        "* Gross NPA ratio increased slightly to 1.33% from 1.23% in the previous quarter, reflecting the impact of the economic slowdown.\n",
        "\n",
        "**Outlook:** HDFC Bank remains optimistic about the future, focusing on increasing its market share in retail and corporate banking while managing risks prudently.."
      ],
      "metadata": {
        "id": "cm-FehOMmxKU"
      }
    }
  ]
}